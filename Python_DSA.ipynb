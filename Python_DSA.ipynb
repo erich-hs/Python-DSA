{
 "cells": [
  {
   "cell_type": "markdown",
   "id": "57f75152",
   "metadata": {},
   "source": [
    "# Data Structures & Algorithms in Python\n",
    "\n",
    "This is a summary notebook of my personal notes, based on the [playlist by Dhaval Patel](https://www.youtube.com/playlist?list=PLeo1K3hjS3uu_n_a__MI_KktGTLYopZ12) on YouTube."
   ]
  },
  {
   "cell_type": "markdown",
   "id": "ffc77d19",
   "metadata": {},
   "source": [
    "## 1. Array\n",
    "\n",
    "### Exercise: Array Data Structure\n",
    "\n",
    "1. Let us say your expense for every month are listed below,\n",
    "\n",
    "* January - 2200\n",
    "* February - 2350\n",
    "* March - 2600\n",
    "* April - 2130\n",
    "* May - 2190\n",
    "\n",
    "Create a list to store these monthly expenses and using that find out,\n",
    "\n",
    "    1. In Feb, how many dollars you spent extra compare to January?\n",
    "    2. Find out your total expense in first quarter (first three months) of the year.\n",
    "    3. Find out if you spent exactly 2000 dollars in any month\n",
    "    4. June month just finished and your expense is 1980 dollar. Add this item to our monthly expense list\n",
    "    5. You returned an item that you bought in a month of April and\n",
    "    got a refund of 200$. Make a correction to your monthly expense list\n",
    "    based on this"
   ]
  },
  {
   "cell_type": "code",
   "execution_count": 7,
   "id": "81265c99",
   "metadata": {},
   "outputs": [],
   "source": [
    "# Dictionary to store monthly expenses\n",
    "expenses = {\n",
    "    \"January\": 2200,\n",
    "    \"February\": 2350,\n",
    "    \"March\": 2600,\n",
    "    \"April\": 2130,\n",
    "    \"May\": 2190\n",
    "}"
   ]
  },
  {
   "cell_type": "code",
   "execution_count": 8,
   "id": "7ae176a6",
   "metadata": {},
   "outputs": [
    {
     "name": "stdout",
     "output_type": "stream",
     "text": [
      "I spent 150 extra dollars.\n"
     ]
    }
   ],
   "source": [
    "# 1.\n",
    "print(f\"I spent {expenses['February'] - expenses['January']} extra dollars.\")"
   ]
  },
  {
   "cell_type": "code",
   "execution_count": 10,
   "id": "bc06536f",
   "metadata": {},
   "outputs": [
    {
     "name": "stdout",
     "output_type": "stream",
     "text": [
      "Total expenses in first quarter: 7150\n"
     ]
    }
   ],
   "source": [
    "# 2.\n",
    "print(f\"Total expenses in first quarter: {expenses['January'] + expenses['February'] + expenses['March']}\")"
   ]
  },
  {
   "cell_type": "code",
   "execution_count": 29,
   "id": "2558f5ef",
   "metadata": {},
   "outputs": [
    {
     "name": "stdout",
     "output_type": "stream",
     "text": [
      "No month where exactly 2000 dollars were spent.\n"
     ]
    }
   ],
   "source": [
    "# 3.\n",
    "look_up_value = 2000\n",
    "months_counter = 0\n",
    "\n",
    "for key, value in zip(expenses.keys(), expenses.values()):\n",
    "    if value == look_up_value:\n",
    "        print(f\"Exactly {look_up_value} dollars spent on {key}.\")\n",
    "        months_counter += 1\n",
    "if months_counter == 0:\n",
    "    print(f\"No month where exactly {look_up_value} dollars were spent.\")"
   ]
  },
  {
   "cell_type": "code",
   "execution_count": 30,
   "id": "e21363e4",
   "metadata": {},
   "outputs": [
    {
     "data": {
      "text/plain": [
       "{'January': 2200,\n",
       " 'February': 2350,\n",
       " 'March': 2600,\n",
       " 'April': 2130,\n",
       " 'May': 2190,\n",
       " 'June': 1980}"
      ]
     },
     "execution_count": 30,
     "metadata": {},
     "output_type": "execute_result"
    }
   ],
   "source": [
    "# 4.\n",
    "expenses['June'] = 1980\n",
    "expenses"
   ]
  },
  {
   "cell_type": "code",
   "execution_count": 31,
   "id": "cfe912e6",
   "metadata": {},
   "outputs": [
    {
     "data": {
      "text/plain": [
       "{'January': 2200,\n",
       " 'February': 2350,\n",
       " 'March': 2600,\n",
       " 'April': 1930,\n",
       " 'May': 2190,\n",
       " 'June': 1980}"
      ]
     },
     "execution_count": 31,
     "metadata": {},
     "output_type": "execute_result"
    }
   ],
   "source": [
    "# 5.\n",
    "expenses['April'] -= 200\n",
    "expenses"
   ]
  },
  {
   "cell_type": "markdown",
   "id": "0d7fc6ee",
   "metadata": {},
   "source": [
    "2. You have a list of your favourite marvel super heros.\n",
    "```\n",
    "heros=['spider man','thor','hulk','iron man','captain america']\n",
    "```\n",
    "Using this find out,\n",
    "```\n",
    "    1. Length of the list\n",
    "    2. Add 'black panther' at the end of this list\n",
    "    3. You realize that you need to add 'black panther' after 'hulk',\n",
    "       so remove it from the list first and then add it after 'hulk'\n",
    "    4. Now you don't like thor and hulk because they get angry easily :)\n",
    "       So you want to remove thor and hulk from list and replace them with doctor strange (because he is cool).\n",
    "       Do that with one line of code.\n",
    "    5. Sort the heros list in alphabetical order (Hint. Use dir() functions to list down all functions available in list)\n",
    "```"
   ]
  },
  {
   "cell_type": "code",
   "execution_count": 73,
   "id": "db96b75f",
   "metadata": {},
   "outputs": [],
   "source": [
    "heros = ['spider man','thor','hulk','iron man','captain america']"
   ]
  },
  {
   "cell_type": "code",
   "execution_count": 74,
   "id": "ca57876a",
   "metadata": {},
   "outputs": [
    {
     "data": {
      "text/plain": [
       "5"
      ]
     },
     "execution_count": 74,
     "metadata": {},
     "output_type": "execute_result"
    }
   ],
   "source": [
    "# 1.\n",
    "len(heros)"
   ]
  },
  {
   "cell_type": "code",
   "execution_count": 75,
   "id": "b49363d9",
   "metadata": {},
   "outputs": [
    {
     "data": {
      "text/plain": [
       "['spider man', 'thor', 'hulk', 'iron man', 'captain america', 'black panther']"
      ]
     },
     "execution_count": 75,
     "metadata": {},
     "output_type": "execute_result"
    }
   ],
   "source": [
    "# 2.\n",
    "heros.append(\"black panther\")\n",
    "heros"
   ]
  },
  {
   "cell_type": "code",
   "execution_count": 76,
   "id": "3f2b1835",
   "metadata": {},
   "outputs": [
    {
     "data": {
      "text/plain": [
       "['spider man', 'thor', 'hulk', 'black panther', 'iron man', 'captain america']"
      ]
     },
     "execution_count": 76,
     "metadata": {},
     "output_type": "execute_result"
    }
   ],
   "source": [
    "# 3.\n",
    "heros.remove(\"black panther\")\n",
    "heros.insert(3, \"black panther\")\n",
    "heros"
   ]
  },
  {
   "cell_type": "code",
   "execution_count": 77,
   "id": "0edf91cd",
   "metadata": {},
   "outputs": [
    {
     "data": {
      "text/plain": [
       "['spider man',\n",
       " 'doctor strange',\n",
       " 'black panther',\n",
       " 'iron man',\n",
       " 'captain america']"
      ]
     },
     "execution_count": 77,
     "metadata": {},
     "output_type": "execute_result"
    }
   ],
   "source": [
    "# 4.\n",
    "# [heros.remove(hero) for hero in [\"thor\", \"hulk\"]]\n",
    "# heros.insert(1, \"doctor strange\")\n",
    "# heros\n",
    "\n",
    "heros[1:3] = [\"doctor strange\"]\n",
    "heros"
   ]
  },
  {
   "cell_type": "code",
   "execution_count": 78,
   "id": "e697ce31",
   "metadata": {},
   "outputs": [
    {
     "data": {
      "text/plain": [
       "['black panther',\n",
       " 'captain america',\n",
       " 'doctor strange',\n",
       " 'iron man',\n",
       " 'spider man']"
      ]
     },
     "execution_count": 78,
     "metadata": {},
     "output_type": "execute_result"
    }
   ],
   "source": [
    "# 5.\n",
    "heros.sort()\n",
    "heros"
   ]
  },
  {
   "cell_type": "markdown",
   "id": "81f9950f",
   "metadata": {},
   "source": [
    "3. Create a list of all odd numbers between 1 and a max number. Max number is something you need to take from a user using input() function"
   ]
  },
  {
   "cell_type": "code",
   "execution_count": 145,
   "id": "a4a078ff",
   "metadata": {},
   "outputs": [
    {
     "name": "stdout",
     "output_type": "stream",
     "text": [
      "Please insert an integer: 23\n",
      "Odd numbers from 0 to 23: [1, 3, 5, 7, 9, 11, 13, 15, 17, 19, 21]\n"
     ]
    }
   ],
   "source": [
    "max_number = input(\"Please insert an integer: \")\n",
    "try:\n",
    "    int(max_number)\n",
    "    odds = [n for n in range(int(max_number)) if n % 2 != 0]\n",
    "    print(f\"Odd numbers from 0 to {max_number}: {odds}\")\n",
    "    \n",
    "except ValueError:\n",
    "    print(f\"Input '{max_number}' is not an integer!\")"
   ]
  },
  {
   "cell_type": "markdown",
   "id": "d9c5bb98",
   "metadata": {},
   "source": [
    "## 2. Linked List"
   ]
  },
  {
   "cell_type": "code",
   "execution_count": 160,
   "id": "bce422e4",
   "metadata": {},
   "outputs": [],
   "source": [
    "## Python implementation\n",
    "\n",
    "# Node class\n",
    "class Node:\n",
    "    def __init__(self, data = None, next = None):\n",
    "        self.data = data\n",
    "        self.next = next\n",
    "\n",
    "# Linked list class\n",
    "class LinkedList:\n",
    "    def __init__(self):\n",
    "        self.head = None\n",
    "    \n",
    "    # Insert data at the begining\n",
    "    def insert_at_begining(self, data):\n",
    "        node = Node(data, self.head)\n",
    "        self.head = node\n",
    "    \n",
    "    # Print method\n",
    "    def print(self):\n",
    "        if self.head is None:\n",
    "            print(\"Linked list is empty\")\n",
    "            return\n",
    "        \n",
    "        itr = self.head\n",
    "        llstr = ''\n",
    "        \n",
    "        while itr:\n",
    "            llstr += str(itr.data) + '-->'\n",
    "            itr = itr.next\n",
    "        \n",
    "        print(llstr)\n",
    "    \n",
    "    # Insert data at the end\n",
    "    def insert_at_end(self, data):\n",
    "        if self.head is None:\n",
    "            self.head = Node(data, None) # Inserting element at the ende, hence next=None\n",
    "            return\n",
    "        \n",
    "        itr = self.head\n",
    "        # Keep iterating until itr.next has no value (end reached)\n",
    "        while itr.next:\n",
    "            itr = itr.next\n",
    "            \n",
    "        itr.next = Node(data, None)\n",
    "    \n",
    "    # Create a new linked list out of a python list\n",
    "    def insert_values(self, data_list):\n",
    "        self.head = None # Wiping current values to insert new data_list, hance head=None\n",
    "        for data in data_list:\n",
    "            self.insert_at_end(data)\n",
    "            \n",
    "    # Counter for linked list length\n",
    "    def get_length(self):\n",
    "        count = 0\n",
    "        itr = self.head\n",
    "        while itr:\n",
    "            count += 1\n",
    "            itr = itr.next\n",
    "        return count\n",
    "    \n",
    "    # Remove an element at given index\n",
    "    def remove_at(self, index):\n",
    "        if index < 0 or index >= self.get_length():\n",
    "            raise Exception(\"Invalid index\")\n",
    "        \n",
    "        # Avoiding index = 0 removal\n",
    "        if index == 0:\n",
    "            self.head = self.head.next\n",
    "            return\n",
    "        \n",
    "        count = 0\n",
    "        itr = self.head\n",
    "        while itr:\n",
    "            # Stop at previous element\n",
    "            if count == index - 1:\n",
    "                itr.next = itr.next.next\n",
    "                break\n",
    "                \n",
    "            itr = itr.next\n",
    "            count += 1\n",
    "    \n",
    "    # Inserting value at index\n",
    "    def insert_at(self, index, data):\n",
    "        if index < 0 or index > self.get_length():\n",
    "            raise Exception(\"Invalid Index\")\n",
    "            \n",
    "        if index == 0:\n",
    "            self.insert_at_begining(data)\n",
    "            return\n",
    "        \n",
    "        count = 0\n",
    "        itr = self.head\n",
    "        while itr:\n",
    "            # Stop at previous element\n",
    "            if count == index -1:\n",
    "                node = Node(data, itr.next)\n",
    "                itr.next = node\n",
    "                break\n",
    "            \n",
    "            itr = itr.next\n",
    "            count += 1"
   ]
  },
  {
   "cell_type": "code",
   "execution_count": 170,
   "id": "4044676d",
   "metadata": {},
   "outputs": [
    {
     "name": "stdout",
     "output_type": "stream",
     "text": [
      "1-->79-->8329-->\n"
     ]
    }
   ],
   "source": [
    "ll = LinkedList()\n",
    "ll.insert_at_begining(79)\n",
    "ll.insert_at_begining(1)\n",
    "ll.insert_at_end(8329)\n",
    "ll.print()"
   ]
  },
  {
   "cell_type": "code",
   "execution_count": 171,
   "id": "399c8600",
   "metadata": {},
   "outputs": [
    {
     "name": "stdout",
     "output_type": "stream",
     "text": [
      "1990-->banana-->mango-->grapes-->orange-->2001-->\n"
     ]
    }
   ],
   "source": [
    "ll = LinkedList()\n",
    "ll.insert_values([\"banana\", \"mango\", \"grapes\", \"orange\"])\n",
    "ll.insert_at_end(2001)\n",
    "ll.insert_at_begining(1990)\n",
    "ll.print()"
   ]
  },
  {
   "cell_type": "code",
   "execution_count": 172,
   "id": "c2a46fb7",
   "metadata": {},
   "outputs": [
    {
     "data": {
      "text/plain": [
       "6"
      ]
     },
     "execution_count": 172,
     "metadata": {},
     "output_type": "execute_result"
    }
   ],
   "source": [
    "ll.get_length()"
   ]
  },
  {
   "cell_type": "code",
   "execution_count": 173,
   "id": "c66b3126",
   "metadata": {},
   "outputs": [
    {
     "ename": "Exception",
     "evalue": "Invalid index",
     "output_type": "error",
     "traceback": [
      "\u001b[1;31m---------------------------------------------------------------------------\u001b[0m",
      "\u001b[1;31mException\u001b[0m                                 Traceback (most recent call last)",
      "\u001b[1;32m<ipython-input-173-9d0bbd053c8f>\u001b[0m in \u001b[0;36m<module>\u001b[1;34m\u001b[0m\n\u001b[1;32m----> 1\u001b[1;33m \u001b[0mll\u001b[0m\u001b[1;33m.\u001b[0m\u001b[0mremove_at\u001b[0m\u001b[1;33m(\u001b[0m\u001b[1;36m20\u001b[0m\u001b[1;33m)\u001b[0m\u001b[1;33m\u001b[0m\u001b[1;33m\u001b[0m\u001b[0m\n\u001b[0m",
      "\u001b[1;32m<ipython-input-160-f416ca1c3e7d>\u001b[0m in \u001b[0;36mremove_at\u001b[1;34m(self, index)\u001b[0m\n\u001b[0;32m     63\u001b[0m     \u001b[1;32mdef\u001b[0m \u001b[0mremove_at\u001b[0m\u001b[1;33m(\u001b[0m\u001b[0mself\u001b[0m\u001b[1;33m,\u001b[0m \u001b[0mindex\u001b[0m\u001b[1;33m)\u001b[0m\u001b[1;33m:\u001b[0m\u001b[1;33m\u001b[0m\u001b[1;33m\u001b[0m\u001b[0m\n\u001b[0;32m     64\u001b[0m         \u001b[1;32mif\u001b[0m \u001b[0mindex\u001b[0m \u001b[1;33m<\u001b[0m \u001b[1;36m0\u001b[0m \u001b[1;32mor\u001b[0m \u001b[0mindex\u001b[0m \u001b[1;33m>=\u001b[0m \u001b[0mself\u001b[0m\u001b[1;33m.\u001b[0m\u001b[0mget_length\u001b[0m\u001b[1;33m(\u001b[0m\u001b[1;33m)\u001b[0m\u001b[1;33m:\u001b[0m\u001b[1;33m\u001b[0m\u001b[1;33m\u001b[0m\u001b[0m\n\u001b[1;32m---> 65\u001b[1;33m             \u001b[1;32mraise\u001b[0m \u001b[0mException\u001b[0m\u001b[1;33m(\u001b[0m\u001b[1;34m\"Invalid index\"\u001b[0m\u001b[1;33m)\u001b[0m\u001b[1;33m\u001b[0m\u001b[1;33m\u001b[0m\u001b[0m\n\u001b[0m\u001b[0;32m     66\u001b[0m \u001b[1;33m\u001b[0m\u001b[0m\n\u001b[0;32m     67\u001b[0m         \u001b[1;31m# Avoiding index = 0 removal\u001b[0m\u001b[1;33m\u001b[0m\u001b[1;33m\u001b[0m\u001b[1;33m\u001b[0m\u001b[0m\n",
      "\u001b[1;31mException\u001b[0m: Invalid index"
     ]
    }
   ],
   "source": [
    "ll.remove_at(20)"
   ]
  },
  {
   "cell_type": "code",
   "execution_count": 174,
   "id": "81a4b866",
   "metadata": {},
   "outputs": [
    {
     "name": "stdout",
     "output_type": "stream",
     "text": [
      "banana-->mango-->grapes-->orange-->2001-->\n"
     ]
    }
   ],
   "source": [
    "ll.remove_at(0)\n",
    "ll.print()"
   ]
  },
  {
   "cell_type": "code",
   "execution_count": 175,
   "id": "2c89a194",
   "metadata": {},
   "outputs": [
    {
     "name": "stdout",
     "output_type": "stream",
     "text": [
      "banana-->mango-->grapes-->orange-->\n"
     ]
    }
   ],
   "source": [
    "ll.remove_at(ll.get_length()-1)\n",
    "ll.print()"
   ]
  },
  {
   "cell_type": "code",
   "execution_count": 176,
   "id": "e29eb981",
   "metadata": {},
   "outputs": [
    {
     "name": "stdout",
     "output_type": "stream",
     "text": [
      "figs-->banana-->mango-->grapes-->orange-->\n"
     ]
    }
   ],
   "source": [
    "ll.insert_at(0, \"figs\")\n",
    "ll.print()"
   ]
  },
  {
   "cell_type": "code",
   "execution_count": 178,
   "id": "eb66d9be",
   "metadata": {},
   "outputs": [
    {
     "name": "stdout",
     "output_type": "stream",
     "text": [
      "figs-->banana-->passion-fruit-->mango-->grapes-->orange-->\n"
     ]
    }
   ],
   "source": [
    "ll.insert_at(2, \"passion-fruit\")\n",
    "ll.print()"
   ]
  },
  {
   "cell_type": "markdown",
   "id": "15d5afa7",
   "metadata": {},
   "source": [
    "## 3. Stack\n",
    "* LIFO\n",
    "* Can be implemented using collections.deque method .append()"
   ]
  },
  {
   "cell_type": "code",
   "execution_count": 250,
   "id": "6ad8aabd",
   "metadata": {},
   "outputs": [
    {
     "name": "stdout",
     "output_type": "stream",
     "text": [
      "deque([5, 22, 32])\n",
      "32\n",
      "deque([5, 22])\n"
     ]
    }
   ],
   "source": [
    "q = deque()\n",
    "q.append(5)\n",
    "q.append(22)\n",
    "q.append(32)\n",
    "\n",
    "print(q)\n",
    "print(q.pop())\n",
    "print(q)"
   ]
  },
  {
   "cell_type": "code",
   "execution_count": 179,
   "id": "a774e512",
   "metadata": {},
   "outputs": [],
   "source": [
    "# Python implementation using deque()\n",
    "from collections import deque\n",
    "\n",
    "class Stack:\n",
    "    def __init__(self):\n",
    "        self.container = deque()\n",
    "    \n",
    "    def push(self,val):\n",
    "        self.container.append(val)\n",
    "        \n",
    "    def pop(self):\n",
    "        return self.container.pop()\n",
    "    \n",
    "    def peek(self):\n",
    "        return  self.container[-1]\n",
    "    \n",
    "    def is_empty(self):\n",
    "        return len(self.container)==0\n",
    "    \n",
    "    def size(self):\n",
    "        return len(self.container)"
   ]
  },
  {
   "cell_type": "markdown",
   "id": "36f3a75b",
   "metadata": {},
   "source": [
    "### Exercise: Hash Table Data Structure\n",
    "1. Write a function in python that can reverse a string using stack data structure. Use Stack class from the tutorial.\n",
    "\n",
    "```\n",
    "reverse_string(\"We will conquere COVID-19\") should return \"91-DIVOC ereuqnoc lliw eW\"\n",
    "```\n",
    "\n",
    "2. Write a function in python that checks if paranthesis in the string are balanced or not. Possible parantheses are \"{}',\"()\" or \"[]\". Use Stack class from the tutorial.\n",
    "\n",
    "```\n",
    "is_balanced(\"({a+b})\")     --> True\n",
    "is_balanced(\"))((a+b}{\")   --> False\n",
    "is_balanced(\"((a+b))\")     --> True\n",
    "is_balanced(\"))\")          --> False\n",
    "is_balanced(\"[a+b]*(x+2y)*{gg+kk}\") --> True\n",
    "```"
   ]
  },
  {
   "cell_type": "code",
   "execution_count": 190,
   "id": "ad1f20a9",
   "metadata": {},
   "outputs": [
    {
     "data": {
      "text/plain": [
       "'91-DIVOC ereuqnoc lliw eW'"
      ]
     },
     "execution_count": 190,
     "metadata": {},
     "output_type": "execute_result"
    }
   ],
   "source": [
    "# 1.\n",
    "reverse_string = Stack()\n",
    "for l in \"We will conquere COVID-19\":\n",
    "    reverse_string.push(l)\n",
    "    \n",
    "reversed_string = \"\"\n",
    "while reverse_string.size() > 0:\n",
    "    reversed_string += reverse_string.pop()\n",
    "\n",
    "reversed_string"
   ]
  },
  {
   "cell_type": "code",
   "execution_count": 227,
   "id": "1726c2c9",
   "metadata": {},
   "outputs": [],
   "source": [
    "#2.\n",
    "def is_balanced(stack):\n",
    "    assert type(stack) == type(Stack()), f\"{stack} is not a Stack instance!\"\n",
    "    \n",
    "    # Curly brackets, parenthesis and square brackets counters\n",
    "    cur_counter = 0\n",
    "    par_counter = 0\n",
    "    bra_counter = 0\n",
    "    \n",
    "    # Messages\n",
    "    balanced_message = \"Input stack is balanced!\"\n",
    "    imbalanced_message = \"Input stack is imbalanced!\"\n",
    "    \n",
    "    while stack.size() > 0:\n",
    "        current = stack.pop()\n",
    "        \n",
    "        # Opening brackets\n",
    "        if current == \"{\":\n",
    "            cur_counter -= 1\n",
    "        elif current == \"(\":\n",
    "            par_counter -= 1\n",
    "        elif current == \"[\":\n",
    "            bra_counter -= 1\n",
    "        \n",
    "        # Closing brackets\n",
    "        elif current == \"}\":\n",
    "            cur_counter += 1\n",
    "        elif current == \")\":\n",
    "            par_counter += 1\n",
    "        elif current == \"]\":\n",
    "            bra_counter += 1\n",
    "        \n",
    "        if cur_counter | par_counter | bra_counter < 0:\n",
    "            return imbalanced_message\n",
    "        \n",
    "    if cur_counter + par_counter + bra_counter != 0:\n",
    "        return imbalanced_message\n",
    "    else:\n",
    "        return balanced_message"
   ]
  },
  {
   "cell_type": "code",
   "execution_count": 236,
   "id": "a9b811a6",
   "metadata": {},
   "outputs": [
    {
     "data": {
      "text/plain": [
       "'Input stack is balanced!'"
      ]
     },
     "execution_count": 236,
     "metadata": {},
     "output_type": "execute_result"
    }
   ],
   "source": [
    "test_1 = Stack()\n",
    "\n",
    "for l in \"[a+b]*(x+2y)*{gg+kk}\":\n",
    "    test_1.push(l)\n",
    "    \n",
    "is_balanced(test_1)"
   ]
  },
  {
   "cell_type": "markdown",
   "id": "4869c3d4",
   "metadata": {},
   "source": [
    "## 4. Queue\n",
    "* FIFO\n",
    "* Can be implemented using collections.deque method .appendleft()\n",
    "* When using through lists in Python it can have problems related to dynamic arrays (O(n) complexity when increasing capacity)"
   ]
  },
  {
   "cell_type": "code",
   "execution_count": 251,
   "id": "96b78f95",
   "metadata": {},
   "outputs": [
    {
     "name": "stdout",
     "output_type": "stream",
     "text": [
      "deque([32, 22, 5])\n",
      "5\n",
      "deque([32, 22])\n"
     ]
    }
   ],
   "source": [
    "q = deque()\n",
    "q.appendleft(5)\n",
    "q.appendleft(22)\n",
    "q.appendleft(32)\n",
    "\n",
    "print(q)\n",
    "print(q.pop())\n",
    "print(q)"
   ]
  },
  {
   "cell_type": "code",
   "execution_count": 255,
   "id": "de734300",
   "metadata": {},
   "outputs": [],
   "source": [
    "class Queue:\n",
    "    \n",
    "    def __init__(self):\n",
    "        self.buffer = deque()\n",
    "    \n",
    "    def enqueue(self, val):\n",
    "        self.buffer.appendleft(val)\n",
    "    \n",
    "    def dequeue(self):\n",
    "        return self.buffer.pop()\n",
    "    \n",
    "    def is_empty(self):\n",
    "        return len(self.buffer) == 0\n",
    "    \n",
    "    def size(self):\n",
    "        return len(self.buffer)"
   ]
  },
  {
   "cell_type": "markdown",
   "id": "0060e0ba",
   "metadata": {},
   "source": [
    "### Exercise: Queue Data Structure\n",
    "\n",
    "1. Design a food ordering system where your python program will run two threads,\n",
    "\n",
    "* Place Order: This thread will be placing an order and inserting that into a queue. This thread places new order every 0.5 second. (hint: use time.sleep(0.5) function)\n",
    "* Serve Order: This thread will server the order. All you need to do is pop the order out of the queue and print it. This thread serves an order every 2 seconds. Also start this thread 1 second after place order thread is started.\n",
    "\n",
    "Pass following list as an argument to place order thread,\n",
    "\n",
    "```\n",
    "orders = ['pizza','samosa','pasta','biryani','burger']\n",
    "```"
   ]
  },
  {
   "cell_type": "code",
   "execution_count": 327,
   "id": "2d582448",
   "metadata": {},
   "outputs": [],
   "source": [
    "import time\n",
    "import threading\n",
    "\n",
    "class Orders:\n",
    "    def __init__(self):\n",
    "        self.order_queue = Queue()\n",
    "    \n",
    "    def place_order(self, orders):\n",
    "        for order in orders:\n",
    "            self.order_queue.enqueue(order)\n",
    "            print(f\"Queued item: {order}\")\n",
    "            time.sleep(0.5)\n",
    "\n",
    "    def serve_order(self):\n",
    "        while self.order_queue.size() > 0:\n",
    "            print(f\"-------\\nServed item: {self.order_queue.dequeue()}\")\n",
    "            print(f\"Current queue: {list(self.order_queue.buffer)}\\n-------\")\n",
    "            time.sleep(2)\n",
    "    \n",
    "    # Multi-threading\n",
    "    def run(self, orders):\n",
    "        t1 = threading.Thread(target = food_queue.place_order, args = (orders,))\n",
    "        t2 = threading.Thread(target = food_queue.serve_order)\n",
    "\n",
    "        t1.start()\n",
    "        time.sleep(1)\n",
    "        t2.start()\n",
    "\n",
    "        t1.join()\n",
    "        t2.join()"
   ]
  },
  {
   "cell_type": "code",
   "execution_count": 328,
   "id": "c288ffb8",
   "metadata": {},
   "outputs": [
    {
     "name": "stdout",
     "output_type": "stream",
     "text": [
      "Queued item: pizza\n",
      "Queued item: samosa\n",
      "-------\n",
      "Served item: pizza\n",
      "Current queue: ['samosa']\n",
      "-------\n",
      "Queued item: pasta\n",
      "Queued item: biryani\n",
      "Queued item: burger\n",
      "-------\n",
      "Served item: samosa\n",
      "Current queue: ['burger', 'biryani', 'pasta']\n",
      "-------\n",
      "-------\n",
      "Served item: pasta\n",
      "Current queue: ['burger', 'biryani']\n",
      "-------\n",
      "-------\n",
      "Served item: biryani\n",
      "Current queue: ['burger']\n",
      "-------\n",
      "-------\n",
      "Served item: burger\n",
      "Current queue: []\n",
      "-------\n"
     ]
    }
   ],
   "source": [
    "orders = ['pizza','samosa','pasta','biryani','burger']\n",
    "\n",
    "food_queue = Orders()\n",
    "food_queue.run(orders)"
   ]
  }
 ],
 "metadata": {
  "kernelspec": {
   "display_name": "Python 3",
   "language": "python",
   "name": "python3"
  },
  "language_info": {
   "codemirror_mode": {
    "name": "ipython",
    "version": 3
   },
   "file_extension": ".py",
   "mimetype": "text/x-python",
   "name": "python",
   "nbconvert_exporter": "python",
   "pygments_lexer": "ipython3",
   "version": "3.8.8"
  }
 },
 "nbformat": 4,
 "nbformat_minor": 5
}
